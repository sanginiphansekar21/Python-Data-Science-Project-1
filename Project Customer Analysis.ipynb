{
 "cells": [
  {
   "cell_type": "markdown",
   "id": "dcfeb576-1f1f-4fdf-a6f1-7453f08af4f2",
   "metadata": {},
   "source": [
    "#Understand the dataset"
   ]
  },
  {
   "cell_type": "code",
   "execution_count": 1,
   "id": "b795e1b1-167f-49ba-8ac4-e320ba49cee5",
   "metadata": {},
   "outputs": [],
   "source": [
    "#1.Data Collection"
   ]
  },
  {
   "cell_type": "code",
   "execution_count": 2,
   "id": "082e5b77-e83b-454e-8d1a-2f4ce6939e24",
   "metadata": {},
   "outputs": [],
   "source": [
    "##Import the data"
   ]
  },
  {
   "cell_type": "code",
   "execution_count": 3,
   "id": "0f1d5f4a-a4c4-4380-8a7e-e9ff60d4a2cf",
   "metadata": {},
   "outputs": [],
   "source": [
    "import pandas as pd\n",
    "import seaborn as sns\n",
    "import matplotlib.pyplot as plt\n",
    "import numpy as np"
   ]
  },
  {
   "cell_type": "code",
   "execution_count": 4,
   "id": "20de1066-748b-44e8-905a-357810bc2b27",
   "metadata": {},
   "outputs": [],
   "source": [
    "df=pd.read_excel('1688639662_ausapparalsales4thqrt2020.xlsx')"
   ]
  },
  {
   "cell_type": "code",
   "execution_count": 5,
   "id": "39c8fc2f-f15a-45d9-a1d5-84eb9a488324",
   "metadata": {
    "collapsed": true,
    "jupyter": {
     "outputs_hidden": true
    },
    "tags": []
   },
   "outputs": [
    {
     "data": {
      "text/html": [
       "<div>\n",
       "<style scoped>\n",
       "    .dataframe tbody tr th:only-of-type {\n",
       "        vertical-align: middle;\n",
       "    }\n",
       "\n",
       "    .dataframe tbody tr th {\n",
       "        vertical-align: top;\n",
       "    }\n",
       "\n",
       "    .dataframe thead th {\n",
       "        text-align: right;\n",
       "    }\n",
       "</style>\n",
       "<table border=\"1\" class=\"dataframe\">\n",
       "  <thead>\n",
       "    <tr style=\"text-align: right;\">\n",
       "      <th></th>\n",
       "      <th>Date</th>\n",
       "      <th>Time</th>\n",
       "      <th>State</th>\n",
       "      <th>Group</th>\n",
       "      <th>Unit</th>\n",
       "      <th>Sales</th>\n",
       "    </tr>\n",
       "  </thead>\n",
       "  <tbody>\n",
       "    <tr>\n",
       "      <th>0</th>\n",
       "      <td>2020-10-01</td>\n",
       "      <td>Morning</td>\n",
       "      <td>WA</td>\n",
       "      <td>Kids</td>\n",
       "      <td>8</td>\n",
       "      <td>20000</td>\n",
       "    </tr>\n",
       "    <tr>\n",
       "      <th>1</th>\n",
       "      <td>2020-10-01</td>\n",
       "      <td>Morning</td>\n",
       "      <td>WA</td>\n",
       "      <td>Men</td>\n",
       "      <td>8</td>\n",
       "      <td>20000</td>\n",
       "    </tr>\n",
       "    <tr>\n",
       "      <th>2</th>\n",
       "      <td>2020-10-01</td>\n",
       "      <td>Morning</td>\n",
       "      <td>WA</td>\n",
       "      <td>Women</td>\n",
       "      <td>4</td>\n",
       "      <td>10000</td>\n",
       "    </tr>\n",
       "    <tr>\n",
       "      <th>3</th>\n",
       "      <td>2020-10-01</td>\n",
       "      <td>Morning</td>\n",
       "      <td>WA</td>\n",
       "      <td>Seniors</td>\n",
       "      <td>15</td>\n",
       "      <td>37500</td>\n",
       "    </tr>\n",
       "    <tr>\n",
       "      <th>4</th>\n",
       "      <td>2020-10-01</td>\n",
       "      <td>Afternoon</td>\n",
       "      <td>WA</td>\n",
       "      <td>Kids</td>\n",
       "      <td>3</td>\n",
       "      <td>7500</td>\n",
       "    </tr>\n",
       "    <tr>\n",
       "      <th>...</th>\n",
       "      <td>...</td>\n",
       "      <td>...</td>\n",
       "      <td>...</td>\n",
       "      <td>...</td>\n",
       "      <td>...</td>\n",
       "      <td>...</td>\n",
       "    </tr>\n",
       "    <tr>\n",
       "      <th>7555</th>\n",
       "      <td>2020-12-30</td>\n",
       "      <td>Afternoon</td>\n",
       "      <td>TAS</td>\n",
       "      <td>Seniors</td>\n",
       "      <td>14</td>\n",
       "      <td>35000</td>\n",
       "    </tr>\n",
       "    <tr>\n",
       "      <th>7556</th>\n",
       "      <td>2020-12-30</td>\n",
       "      <td>Evening</td>\n",
       "      <td>TAS</td>\n",
       "      <td>Kids</td>\n",
       "      <td>15</td>\n",
       "      <td>37500</td>\n",
       "    </tr>\n",
       "    <tr>\n",
       "      <th>7557</th>\n",
       "      <td>2020-12-30</td>\n",
       "      <td>Evening</td>\n",
       "      <td>TAS</td>\n",
       "      <td>Men</td>\n",
       "      <td>15</td>\n",
       "      <td>37500</td>\n",
       "    </tr>\n",
       "    <tr>\n",
       "      <th>7558</th>\n",
       "      <td>2020-12-30</td>\n",
       "      <td>Evening</td>\n",
       "      <td>TAS</td>\n",
       "      <td>Women</td>\n",
       "      <td>11</td>\n",
       "      <td>27500</td>\n",
       "    </tr>\n",
       "    <tr>\n",
       "      <th>7559</th>\n",
       "      <td>2020-12-30</td>\n",
       "      <td>Evening</td>\n",
       "      <td>TAS</td>\n",
       "      <td>Seniors</td>\n",
       "      <td>13</td>\n",
       "      <td>32500</td>\n",
       "    </tr>\n",
       "  </tbody>\n",
       "</table>\n",
       "<p>7560 rows × 6 columns</p>\n",
       "</div>"
      ],
      "text/plain": [
       "           Date        Time State     Group  Unit  Sales\n",
       "0    2020-10-01     Morning    WA      Kids     8  20000\n",
       "1    2020-10-01     Morning    WA       Men     8  20000\n",
       "2    2020-10-01     Morning    WA     Women     4  10000\n",
       "3    2020-10-01     Morning    WA   Seniors    15  37500\n",
       "4    2020-10-01   Afternoon    WA      Kids     3   7500\n",
       "...         ...         ...   ...       ...   ...    ...\n",
       "7555 2020-12-30   Afternoon   TAS   Seniors    14  35000\n",
       "7556 2020-12-30     Evening   TAS      Kids    15  37500\n",
       "7557 2020-12-30     Evening   TAS       Men    15  37500\n",
       "7558 2020-12-30     Evening   TAS     Women    11  27500\n",
       "7559 2020-12-30     Evening   TAS   Seniors    13  32500\n",
       "\n",
       "[7560 rows x 6 columns]"
      ]
     },
     "execution_count": 5,
     "metadata": {},
     "output_type": "execute_result"
    }
   ],
   "source": [
    "df"
   ]
  },
  {
   "cell_type": "code",
   "execution_count": 6,
   "id": "ad54c7ed-55ee-4cd6-acec-c538f2aa9c85",
   "metadata": {},
   "outputs": [],
   "source": [
    "#2.Data Inspection"
   ]
  },
  {
   "cell_type": "code",
   "execution_count": 7,
   "id": "d381bc84-2675-4a36-ad16-c7e54a572f39",
   "metadata": {},
   "outputs": [
    {
     "data": {
      "text/plain": [
       "Index(['Date', 'Time', 'State', 'Group', 'Unit', 'Sales'], dtype='object')"
      ]
     },
     "execution_count": 7,
     "metadata": {},
     "output_type": "execute_result"
    }
   ],
   "source": [
    "df.columns"
   ]
  },
  {
   "cell_type": "code",
   "execution_count": 8,
   "id": "2dab75f3-e2e7-45d9-9c46-7a198cd7fdc2",
   "metadata": {},
   "outputs": [
    {
     "data": {
      "text/plain": [
       "6"
      ]
     },
     "execution_count": 8,
     "metadata": {},
     "output_type": "execute_result"
    }
   ],
   "source": [
    "len(df.columns)"
   ]
  },
  {
   "cell_type": "code",
   "execution_count": 9,
   "id": "50dd5738-9307-4632-a617-4402404eeb77",
   "metadata": {
    "collapsed": true,
    "jupyter": {
     "outputs_hidden": true
    },
    "tags": []
   },
   "outputs": [
    {
     "name": "stdout",
     "output_type": "stream",
     "text": [
      "<class 'pandas.core.frame.DataFrame'>\n",
      "RangeIndex: 7560 entries, 0 to 7559\n",
      "Data columns (total 6 columns):\n",
      " #   Column  Non-Null Count  Dtype         \n",
      "---  ------  --------------  -----         \n",
      " 0   Date    7560 non-null   datetime64[ns]\n",
      " 1   Time    7560 non-null   object        \n",
      " 2   State   7560 non-null   object        \n",
      " 3   Group   7560 non-null   object        \n",
      " 4   Unit    7560 non-null   int64         \n",
      " 5   Sales   7560 non-null   int64         \n",
      "dtypes: datetime64[ns](1), int64(2), object(3)\n",
      "memory usage: 354.5+ KB\n"
     ]
    }
   ],
   "source": [
    "df.info()"
   ]
  },
  {
   "cell_type": "code",
   "execution_count": 10,
   "id": "16e444f7-08cd-42ea-9c0f-f7577faa53ee",
   "metadata": {
    "collapsed": true,
    "jupyter": {
     "outputs_hidden": true
    },
    "tags": []
   },
   "outputs": [
    {
     "data": {
      "text/html": [
       "<div>\n",
       "<style scoped>\n",
       "    .dataframe tbody tr th:only-of-type {\n",
       "        vertical-align: middle;\n",
       "    }\n",
       "\n",
       "    .dataframe tbody tr th {\n",
       "        vertical-align: top;\n",
       "    }\n",
       "\n",
       "    .dataframe thead th {\n",
       "        text-align: right;\n",
       "    }\n",
       "</style>\n",
       "<table border=\"1\" class=\"dataframe\">\n",
       "  <thead>\n",
       "    <tr style=\"text-align: right;\">\n",
       "      <th></th>\n",
       "      <th>Unit</th>\n",
       "      <th>Sales</th>\n",
       "    </tr>\n",
       "  </thead>\n",
       "  <tbody>\n",
       "    <tr>\n",
       "      <th>count</th>\n",
       "      <td>7560.000000</td>\n",
       "      <td>7560.000000</td>\n",
       "    </tr>\n",
       "    <tr>\n",
       "      <th>mean</th>\n",
       "      <td>18.005423</td>\n",
       "      <td>45013.558201</td>\n",
       "    </tr>\n",
       "    <tr>\n",
       "      <th>std</th>\n",
       "      <td>12.901403</td>\n",
       "      <td>32253.506944</td>\n",
       "    </tr>\n",
       "    <tr>\n",
       "      <th>min</th>\n",
       "      <td>2.000000</td>\n",
       "      <td>5000.000000</td>\n",
       "    </tr>\n",
       "    <tr>\n",
       "      <th>25%</th>\n",
       "      <td>8.000000</td>\n",
       "      <td>20000.000000</td>\n",
       "    </tr>\n",
       "    <tr>\n",
       "      <th>50%</th>\n",
       "      <td>14.000000</td>\n",
       "      <td>35000.000000</td>\n",
       "    </tr>\n",
       "    <tr>\n",
       "      <th>75%</th>\n",
       "      <td>26.000000</td>\n",
       "      <td>65000.000000</td>\n",
       "    </tr>\n",
       "    <tr>\n",
       "      <th>max</th>\n",
       "      <td>65.000000</td>\n",
       "      <td>162500.000000</td>\n",
       "    </tr>\n",
       "  </tbody>\n",
       "</table>\n",
       "</div>"
      ],
      "text/plain": [
       "              Unit          Sales\n",
       "count  7560.000000    7560.000000\n",
       "mean     18.005423   45013.558201\n",
       "std      12.901403   32253.506944\n",
       "min       2.000000    5000.000000\n",
       "25%       8.000000   20000.000000\n",
       "50%      14.000000   35000.000000\n",
       "75%      26.000000   65000.000000\n",
       "max      65.000000  162500.000000"
      ]
     },
     "execution_count": 10,
     "metadata": {},
     "output_type": "execute_result"
    }
   ],
   "source": [
    "df.describe()"
   ]
  },
  {
   "cell_type": "code",
   "execution_count": 11,
   "id": "3a6e3c3c-c428-47d7-a150-42d62ab1eb00",
   "metadata": {
    "collapsed": true,
    "jupyter": {
     "outputs_hidden": true
    },
    "tags": []
   },
   "outputs": [
    {
     "data": {
      "text/html": [
       "<div>\n",
       "<style scoped>\n",
       "    .dataframe tbody tr th:only-of-type {\n",
       "        vertical-align: middle;\n",
       "    }\n",
       "\n",
       "    .dataframe tbody tr th {\n",
       "        vertical-align: top;\n",
       "    }\n",
       "\n",
       "    .dataframe thead th {\n",
       "        text-align: right;\n",
       "    }\n",
       "</style>\n",
       "<table border=\"1\" class=\"dataframe\">\n",
       "  <thead>\n",
       "    <tr style=\"text-align: right;\">\n",
       "      <th></th>\n",
       "      <th>Date</th>\n",
       "      <th>Time</th>\n",
       "      <th>State</th>\n",
       "      <th>Group</th>\n",
       "      <th>Unit</th>\n",
       "      <th>Sales</th>\n",
       "    </tr>\n",
       "  </thead>\n",
       "  <tbody>\n",
       "    <tr>\n",
       "      <th>0</th>\n",
       "      <td>2020-10-01</td>\n",
       "      <td>Morning</td>\n",
       "      <td>WA</td>\n",
       "      <td>Kids</td>\n",
       "      <td>8</td>\n",
       "      <td>20000</td>\n",
       "    </tr>\n",
       "    <tr>\n",
       "      <th>1</th>\n",
       "      <td>2020-10-01</td>\n",
       "      <td>Morning</td>\n",
       "      <td>WA</td>\n",
       "      <td>Men</td>\n",
       "      <td>8</td>\n",
       "      <td>20000</td>\n",
       "    </tr>\n",
       "    <tr>\n",
       "      <th>2</th>\n",
       "      <td>2020-10-01</td>\n",
       "      <td>Morning</td>\n",
       "      <td>WA</td>\n",
       "      <td>Women</td>\n",
       "      <td>4</td>\n",
       "      <td>10000</td>\n",
       "    </tr>\n",
       "    <tr>\n",
       "      <th>3</th>\n",
       "      <td>2020-10-01</td>\n",
       "      <td>Morning</td>\n",
       "      <td>WA</td>\n",
       "      <td>Seniors</td>\n",
       "      <td>15</td>\n",
       "      <td>37500</td>\n",
       "    </tr>\n",
       "    <tr>\n",
       "      <th>4</th>\n",
       "      <td>2020-10-01</td>\n",
       "      <td>Afternoon</td>\n",
       "      <td>WA</td>\n",
       "      <td>Kids</td>\n",
       "      <td>3</td>\n",
       "      <td>7500</td>\n",
       "    </tr>\n",
       "  </tbody>\n",
       "</table>\n",
       "</div>"
      ],
      "text/plain": [
       "        Date        Time State     Group  Unit  Sales\n",
       "0 2020-10-01     Morning    WA      Kids     8  20000\n",
       "1 2020-10-01     Morning    WA       Men     8  20000\n",
       "2 2020-10-01     Morning    WA     Women     4  10000\n",
       "3 2020-10-01     Morning    WA   Seniors    15  37500\n",
       "4 2020-10-01   Afternoon    WA      Kids     3   7500"
      ]
     },
     "execution_count": 11,
     "metadata": {},
     "output_type": "execute_result"
    }
   ],
   "source": [
    "df.head()"
   ]
  },
  {
   "cell_type": "code",
   "execution_count": 12,
   "id": "e0c0fe4d-0d0f-43d1-96d8-6ccb135eed22",
   "metadata": {
    "collapsed": true,
    "jupyter": {
     "outputs_hidden": true
    },
    "tags": []
   },
   "outputs": [
    {
     "data": {
      "text/html": [
       "<div>\n",
       "<style scoped>\n",
       "    .dataframe tbody tr th:only-of-type {\n",
       "        vertical-align: middle;\n",
       "    }\n",
       "\n",
       "    .dataframe tbody tr th {\n",
       "        vertical-align: top;\n",
       "    }\n",
       "\n",
       "    .dataframe thead th {\n",
       "        text-align: right;\n",
       "    }\n",
       "</style>\n",
       "<table border=\"1\" class=\"dataframe\">\n",
       "  <thead>\n",
       "    <tr style=\"text-align: right;\">\n",
       "      <th></th>\n",
       "      <th>Date</th>\n",
       "      <th>Time</th>\n",
       "      <th>State</th>\n",
       "      <th>Group</th>\n",
       "      <th>Unit</th>\n",
       "      <th>Sales</th>\n",
       "    </tr>\n",
       "  </thead>\n",
       "  <tbody>\n",
       "    <tr>\n",
       "      <th>7555</th>\n",
       "      <td>2020-12-30</td>\n",
       "      <td>Afternoon</td>\n",
       "      <td>TAS</td>\n",
       "      <td>Seniors</td>\n",
       "      <td>14</td>\n",
       "      <td>35000</td>\n",
       "    </tr>\n",
       "    <tr>\n",
       "      <th>7556</th>\n",
       "      <td>2020-12-30</td>\n",
       "      <td>Evening</td>\n",
       "      <td>TAS</td>\n",
       "      <td>Kids</td>\n",
       "      <td>15</td>\n",
       "      <td>37500</td>\n",
       "    </tr>\n",
       "    <tr>\n",
       "      <th>7557</th>\n",
       "      <td>2020-12-30</td>\n",
       "      <td>Evening</td>\n",
       "      <td>TAS</td>\n",
       "      <td>Men</td>\n",
       "      <td>15</td>\n",
       "      <td>37500</td>\n",
       "    </tr>\n",
       "    <tr>\n",
       "      <th>7558</th>\n",
       "      <td>2020-12-30</td>\n",
       "      <td>Evening</td>\n",
       "      <td>TAS</td>\n",
       "      <td>Women</td>\n",
       "      <td>11</td>\n",
       "      <td>27500</td>\n",
       "    </tr>\n",
       "    <tr>\n",
       "      <th>7559</th>\n",
       "      <td>2020-12-30</td>\n",
       "      <td>Evening</td>\n",
       "      <td>TAS</td>\n",
       "      <td>Seniors</td>\n",
       "      <td>13</td>\n",
       "      <td>32500</td>\n",
       "    </tr>\n",
       "  </tbody>\n",
       "</table>\n",
       "</div>"
      ],
      "text/plain": [
       "           Date        Time State     Group  Unit  Sales\n",
       "7555 2020-12-30   Afternoon   TAS   Seniors    14  35000\n",
       "7556 2020-12-30     Evening   TAS      Kids    15  37500\n",
       "7557 2020-12-30     Evening   TAS       Men    15  37500\n",
       "7558 2020-12-30     Evening   TAS     Women    11  27500\n",
       "7559 2020-12-30     Evening   TAS   Seniors    13  32500"
      ]
     },
     "execution_count": 12,
     "metadata": {},
     "output_type": "execute_result"
    }
   ],
   "source": [
    "df.tail()"
   ]
  },
  {
   "cell_type": "code",
   "execution_count": 13,
   "id": "0899fe6b-fd0a-43e7-a943-e01061bd9530",
   "metadata": {},
   "outputs": [],
   "source": [
    "#3.Data Wrangling"
   ]
  },
  {
   "cell_type": "code",
   "execution_count": 14,
   "id": "b41d2b25-0272-43cf-a9a2-113673eef9ec",
   "metadata": {},
   "outputs": [
    {
     "name": "stdout",
     "output_type": "stream",
     "text": [
      "Missing Values per Column:\n",
      "Date     0\n",
      "Time     0\n",
      "State    0\n",
      "Group    0\n",
      "Unit     0\n",
      "Sales    0\n",
      "dtype: int64\n"
     ]
    }
   ],
   "source": [
    "# 3.1Checking for missing values\n",
    "missing_values = df.isnull().sum()\n",
    "print(\"Missing Values per Column:\")\n",
    "print(missing_values)"
   ]
  },
  {
   "cell_type": "code",
   "execution_count": 15,
   "id": "24cc0b47-9ed9-49f4-a494-df84cce0f3a6",
   "metadata": {},
   "outputs": [],
   "source": [
    "#3.2 Removing duplicate records\n",
    "df_no_duplicates = df.drop_duplicates()"
   ]
  },
  {
   "cell_type": "code",
   "execution_count": 16,
   "id": "f843e53c-9fbf-4651-b7ee-f84fe4078223",
   "metadata": {
    "collapsed": true,
    "jupyter": {
     "outputs_hidden": true
    },
    "tags": []
   },
   "outputs": [
    {
     "data": {
      "text/html": [
       "<div>\n",
       "<style scoped>\n",
       "    .dataframe tbody tr th:only-of-type {\n",
       "        vertical-align: middle;\n",
       "    }\n",
       "\n",
       "    .dataframe tbody tr th {\n",
       "        vertical-align: top;\n",
       "    }\n",
       "\n",
       "    .dataframe thead th {\n",
       "        text-align: right;\n",
       "    }\n",
       "</style>\n",
       "<table border=\"1\" class=\"dataframe\">\n",
       "  <thead>\n",
       "    <tr style=\"text-align: right;\">\n",
       "      <th></th>\n",
       "      <th>Date</th>\n",
       "      <th>Time</th>\n",
       "      <th>State</th>\n",
       "      <th>Group</th>\n",
       "      <th>Unit</th>\n",
       "      <th>Sales</th>\n",
       "    </tr>\n",
       "  </thead>\n",
       "  <tbody>\n",
       "    <tr>\n",
       "      <th>0</th>\n",
       "      <td>2020-10-01</td>\n",
       "      <td>Morning</td>\n",
       "      <td>WA</td>\n",
       "      <td>Kids</td>\n",
       "      <td>8</td>\n",
       "      <td>20000</td>\n",
       "    </tr>\n",
       "    <tr>\n",
       "      <th>1</th>\n",
       "      <td>2020-10-01</td>\n",
       "      <td>Morning</td>\n",
       "      <td>WA</td>\n",
       "      <td>Men</td>\n",
       "      <td>8</td>\n",
       "      <td>20000</td>\n",
       "    </tr>\n",
       "    <tr>\n",
       "      <th>2</th>\n",
       "      <td>2020-10-01</td>\n",
       "      <td>Morning</td>\n",
       "      <td>WA</td>\n",
       "      <td>Women</td>\n",
       "      <td>4</td>\n",
       "      <td>10000</td>\n",
       "    </tr>\n",
       "    <tr>\n",
       "      <th>3</th>\n",
       "      <td>2020-10-01</td>\n",
       "      <td>Morning</td>\n",
       "      <td>WA</td>\n",
       "      <td>Seniors</td>\n",
       "      <td>15</td>\n",
       "      <td>37500</td>\n",
       "    </tr>\n",
       "    <tr>\n",
       "      <th>4</th>\n",
       "      <td>2020-10-01</td>\n",
       "      <td>Afternoon</td>\n",
       "      <td>WA</td>\n",
       "      <td>Kids</td>\n",
       "      <td>3</td>\n",
       "      <td>7500</td>\n",
       "    </tr>\n",
       "    <tr>\n",
       "      <th>...</th>\n",
       "      <td>...</td>\n",
       "      <td>...</td>\n",
       "      <td>...</td>\n",
       "      <td>...</td>\n",
       "      <td>...</td>\n",
       "      <td>...</td>\n",
       "    </tr>\n",
       "    <tr>\n",
       "      <th>7555</th>\n",
       "      <td>2020-12-30</td>\n",
       "      <td>Afternoon</td>\n",
       "      <td>TAS</td>\n",
       "      <td>Seniors</td>\n",
       "      <td>14</td>\n",
       "      <td>35000</td>\n",
       "    </tr>\n",
       "    <tr>\n",
       "      <th>7556</th>\n",
       "      <td>2020-12-30</td>\n",
       "      <td>Evening</td>\n",
       "      <td>TAS</td>\n",
       "      <td>Kids</td>\n",
       "      <td>15</td>\n",
       "      <td>37500</td>\n",
       "    </tr>\n",
       "    <tr>\n",
       "      <th>7557</th>\n",
       "      <td>2020-12-30</td>\n",
       "      <td>Evening</td>\n",
       "      <td>TAS</td>\n",
       "      <td>Men</td>\n",
       "      <td>15</td>\n",
       "      <td>37500</td>\n",
       "    </tr>\n",
       "    <tr>\n",
       "      <th>7558</th>\n",
       "      <td>2020-12-30</td>\n",
       "      <td>Evening</td>\n",
       "      <td>TAS</td>\n",
       "      <td>Women</td>\n",
       "      <td>11</td>\n",
       "      <td>27500</td>\n",
       "    </tr>\n",
       "    <tr>\n",
       "      <th>7559</th>\n",
       "      <td>2020-12-30</td>\n",
       "      <td>Evening</td>\n",
       "      <td>TAS</td>\n",
       "      <td>Seniors</td>\n",
       "      <td>13</td>\n",
       "      <td>32500</td>\n",
       "    </tr>\n",
       "  </tbody>\n",
       "</table>\n",
       "<p>7560 rows × 6 columns</p>\n",
       "</div>"
      ],
      "text/plain": [
       "           Date        Time State     Group  Unit  Sales\n",
       "0    2020-10-01     Morning    WA      Kids     8  20000\n",
       "1    2020-10-01     Morning    WA       Men     8  20000\n",
       "2    2020-10-01     Morning    WA     Women     4  10000\n",
       "3    2020-10-01     Morning    WA   Seniors    15  37500\n",
       "4    2020-10-01   Afternoon    WA      Kids     3   7500\n",
       "...         ...         ...   ...       ...   ...    ...\n",
       "7555 2020-12-30   Afternoon   TAS   Seniors    14  35000\n",
       "7556 2020-12-30     Evening   TAS      Kids    15  37500\n",
       "7557 2020-12-30     Evening   TAS       Men    15  37500\n",
       "7558 2020-12-30     Evening   TAS     Women    11  27500\n",
       "7559 2020-12-30     Evening   TAS   Seniors    13  32500\n",
       "\n",
       "[7560 rows x 6 columns]"
      ]
     },
     "execution_count": 16,
     "metadata": {},
     "output_type": "execute_result"
    }
   ],
   "source": [
    "df_no_duplicates"
   ]
  },
  {
   "cell_type": "markdown",
   "id": "1f7eabe7-6fc4-4114-84e5-59476241b50c",
   "metadata": {},
   "source": [
    "1.No Null values in the data observed\n",
    "2.No duplictes in the data."
   ]
  },
  {
   "cell_type": "code",
   "execution_count": 17,
   "id": "cecbbda4-a409-4c2e-8dc0-ed66e9e76338",
   "metadata": {},
   "outputs": [],
   "source": [
    "#4.Data Cleaning"
   ]
  },
  {
   "cell_type": "code",
   "execution_count": 18,
   "id": "2a483550-12fa-4344-9f28-daf34f68e5aa",
   "metadata": {
    "collapsed": true,
    "jupyter": {
     "outputs_hidden": true
    },
    "tags": []
   },
   "outputs": [
    {
     "name": "stdout",
     "output_type": "stream",
     "text": [
      "DataFrame after cleaning data by standardizing formats:\n",
      "           Date        Time State     Group  Unit  Sales\n",
      "0    2020-10-01     Morning    WA      Kids     8  20000\n",
      "1    2020-10-01     Morning    WA       Men     8  20000\n",
      "2    2020-10-01     Morning    WA     Women     4  10000\n",
      "3    2020-10-01     Morning    WA   Seniors    15  37500\n",
      "4    2020-10-01   Afternoon    WA      Kids     3   7500\n",
      "...         ...         ...   ...       ...   ...    ...\n",
      "7555 2020-12-30   Afternoon   TAS   Seniors    14  35000\n",
      "7556 2020-12-30     Evening   TAS      Kids    15  37500\n",
      "7557 2020-12-30     Evening   TAS       Men    15  37500\n",
      "7558 2020-12-30     Evening   TAS     Women    11  27500\n",
      "7559 2020-12-30     Evening   TAS   Seniors    13  32500\n",
      "\n",
      "[7560 rows x 6 columns]\n"
     ]
    }
   ],
   "source": [
    "# Cleaning data by standardizing formats\n",
    "df['Date'] = pd.to_datetime(df['Date'])\n",
    "# Displaying the DataFrame after cleaning\n",
    "print(\"DataFrame after cleaning data by standardizing formats:\")\n",
    "print(df)"
   ]
  },
  {
   "cell_type": "code",
   "execution_count": 19,
   "id": "a64bd93b-ff6e-4e2b-a75a-557338b72910",
   "metadata": {},
   "outputs": [],
   "source": [
    "#6.Data Transformation"
   ]
  },
  {
   "cell_type": "code",
   "execution_count": 20,
   "id": "3e49dabb-06a1-4b55-bde1-51f058090a30",
   "metadata": {
    "collapsed": true,
    "jupyter": {
     "outputs_hidden": true
    },
    "tags": []
   },
   "outputs": [
    {
     "name": "stdout",
     "output_type": "stream",
     "text": [
      "           Date        Time State     Group  Unit  Sales  Normalized_Sales\n",
      "0    2020-10-01     Morning    WA      Kids     8  20000          0.095238\n",
      "1    2020-10-01     Morning    WA       Men     8  20000          0.095238\n",
      "2    2020-10-01     Morning    WA     Women     4  10000          0.031746\n",
      "3    2020-10-01     Morning    WA   Seniors    15  37500          0.206349\n",
      "4    2020-10-01   Afternoon    WA      Kids     3   7500          0.015873\n",
      "...         ...         ...   ...       ...   ...    ...               ...\n",
      "7555 2020-12-30   Afternoon   TAS   Seniors    14  35000          0.190476\n",
      "7556 2020-12-30     Evening   TAS      Kids    15  37500          0.206349\n",
      "7557 2020-12-30     Evening   TAS       Men    15  37500          0.206349\n",
      "7558 2020-12-30     Evening   TAS     Women    11  27500          0.142857\n",
      "7559 2020-12-30     Evening   TAS   Seniors    13  32500          0.174603\n",
      "\n",
      "[7560 rows x 7 columns]\n"
     ]
    }
   ],
   "source": [
    "# Normalize 'Sales' column and create a new feature 'Normalized_Sales'\n",
    "df['Normalized_Sales'] = (df['Sales'] - df['Sales'].min()) / (df['Sales'].max() - df['Sales'].min())\n",
    "print(df)"
   ]
  },
  {
   "cell_type": "code",
   "execution_count": 21,
   "id": "f2e864d9-037d-4689-871c-c4b9bdf9a0e3",
   "metadata": {},
   "outputs": [
    {
     "data": {
      "text/plain": [
       "['Unit', 'Sales', 'Normalized_Sales']"
      ]
     },
     "execution_count": 21,
     "metadata": {},
     "output_type": "execute_result"
    }
   ],
   "source": [
    "numerical_feature_columns = list(df._get_numeric_data().columns)\n",
    "numerical_feature_columns"
   ]
  },
  {
   "cell_type": "code",
   "execution_count": 22,
   "id": "2ed0dfc8-5ade-45ca-b26f-4a6893a32b4a",
   "metadata": {},
   "outputs": [
    {
     "data": {
      "text/plain": [
       "['Date', 'Time', 'State', 'Group']"
      ]
     },
     "execution_count": 22,
     "metadata": {},
     "output_type": "execute_result"
    }
   ],
   "source": [
    "categorical_feature_columns = list(set(df.columns) - set(df._get_numeric_data().columns))\n",
    "categorical_feature_columns"
   ]
  },
  {
   "cell_type": "code",
   "execution_count": 23,
   "id": "e240b7bf-b1c8-4aca-a164-478cd9613a49",
   "metadata": {
    "collapsed": true,
    "jupyter": {
     "outputs_hidden": true
    },
    "tags": []
   },
   "outputs": [
    {
     "data": {
      "image/png": "[encoded data removed]",
      "text/plain": [
       "<Figure size 432x288 with 1 Axes>"
      ]
     },
     "metadata": {
      "needs_background": "light"
     },
     "output_type": "display_data"
    }
   ],
   "source": [
    "sns.histplot(df['Normalized_Sales'], bins=20, kde=True)\n",
    "plt.title('Histogram: Distribution of Sale')\n",
    "plt.show()"
   ]
  },
  {
   "cell_type": "code",
   "execution_count": 24,
   "id": "6378e9a7-b531-4337-bbeb-f63774e6a1c8",
   "metadata": {},
   "outputs": [],
   "source": [
    "#from above KDE plot we can observed that graph is left skwed it means very less time the sale is below average(mean<median)"
   ]
  },
  {
   "cell_type": "code",
   "execution_count": 25,
   "id": "9e6b642c-bfd7-481e-99e2-e65004fb533b",
   "metadata": {
    "collapsed": true,
    "jupyter": {
     "outputs_hidden": true
    },
    "tags": []
   },
   "outputs": [
    {
     "data": {
      "image/png": "[encoded data removed]",
      "text/plain": [
       "<Figure size 432x288 with 1 Axes>"
      ]
     },
     "metadata": {
      "needs_background": "light"
     },
     "output_type": "display_data"
    }
   ],
   "source": [
    "sns.boxplot(x='State', y='Normalized_Sales', data=df)\n",
    "plt.title('Box plot: Total Sale by State')\n",
    "plt.show()"
   ]
  },
  {
   "cell_type": "code",
   "execution_count": 26,
   "id": "16eb6303-f4e7-41d0-b436-e8353252e45d",
   "metadata": {
    "collapsed": true,
    "jupyter": {
     "outputs_hidden": true
    },
    "tags": []
   },
   "outputs": [
    {
     "data": {
      "image/png": "[encoded data removed]",
      "text/plain": [
       "<Figure size 432x288 with 1 Axes>"
      ]
     },
     "metadata": {
      "needs_background": "light"
     },
     "output_type": "display_data"
    }
   ],
   "source": [
    "sns.boxplot(x='Group', y='Normalized_Sales', data=df)\n",
    "plt.title('Box plot: Total Sale by State')\n",
    "plt.show()"
   ]
  },
  {
   "cell_type": "code",
   "execution_count": 27,
   "id": "d59c781c-cd00-4137-a5be-ba690d789206",
   "metadata": {
    "collapsed": true,
    "jupyter": {
     "outputs_hidden": true
    },
    "tags": []
   },
   "outputs": [
    {
     "data": {
      "image/png": "[encoded data removed]",
      "text/plain": [
       "<Figure size 432x288 with 1 Axes>"
      ]
     },
     "metadata": {
      "needs_background": "light"
     },
     "output_type": "display_data"
    }
   ],
   "source": [
    "sns.boxplot(x='Time', y='Normalized_Sales', data=df)\n",
    "plt.title('Box plot: Total Sale by State')\n",
    "plt.show()"
   ]
  },
  {
   "cell_type": "code",
   "execution_count": 28,
   "id": "e885aee8-c694-496c-8c1d-5a9815bba3b3",
   "metadata": {},
   "outputs": [],
   "source": [
    "#7.Data Binning"
   ]
  },
  {
   "cell_type": "code",
   "execution_count": 29,
   "id": "c2af552c-b78c-453b-bc50-879cac2af620",
   "metadata": {
    "collapsed": true,
    "jupyter": {
     "outputs_hidden": true,
     "source_hidden": true
    },
    "tags": []
   },
   "outputs": [
    {
     "name": "stdout",
     "output_type": "stream",
     "text": [
      "DataFrame with Sales_Category column:\n",
      "           Date        Time State     Group  Unit  Sales  Normalized_Sales  \\\n",
      "0    2020-10-01     Morning    WA      Kids     8  20000          0.095238   \n",
      "1    2020-10-01     Morning    WA       Men     8  20000          0.095238   \n",
      "2    2020-10-01     Morning    WA     Women     4  10000          0.031746   \n",
      "3    2020-10-01     Morning    WA   Seniors    15  37500          0.206349   \n",
      "4    2020-10-01   Afternoon    WA      Kids     3   7500          0.015873   \n",
      "...         ...         ...   ...       ...   ...    ...               ...   \n",
      "7555 2020-12-30   Afternoon   TAS   Seniors    14  35000          0.190476   \n",
      "7556 2020-12-30     Evening   TAS      Kids    15  37500          0.206349   \n",
      "7557 2020-12-30     Evening   TAS       Men    15  37500          0.206349   \n",
      "7558 2020-12-30     Evening   TAS     Women    11  27500          0.142857   \n",
      "7559 2020-12-30     Evening   TAS   Seniors    13  32500          0.174603   \n",
      "\n",
      "     Sales_Category  \n",
      "0              501+  \n",
      "1              501+  \n",
      "2              501+  \n",
      "3              501+  \n",
      "4              501+  \n",
      "...             ...  \n",
      "7555           501+  \n",
      "7556           501+  \n",
      "7557           501+  \n",
      "7558           501+  \n",
      "7559           501+  \n",
      "\n",
      "[7560 rows x 8 columns]\n"
     ]
    }
   ],
   "source": [
    "if 'Sales' in df.columns:\n",
    "    bin_edges = [0, 100, 200, 300, 400, 500, np.inf]\n",
    "    bin_labels = ['0-100', '101-200', '201-300', '301-400', '401-500', '501+']\n",
    "    df['Sales_Category'] = pd.cut(df['Sales'], bins=bin_edges, labels=bin_labels, right=False)\n",
    "    print(\"DataFrame with Sales_Category column:\")\n",
    "    print(df)\n",
    "else:\n",
    "    print(\"The 'Sales' column does not exist in the DataFrame.\")"
   ]
  },
  {
   "cell_type": "code",
   "execution_count": 30,
   "id": "d4236950-019c-4fd4-8325-ede59d0c7e99",
   "metadata": {},
   "outputs": [],
   "source": [
    "#8.Handling Outliers"
   ]
  },
  {
   "cell_type": "code",
   "execution_count": 31,
   "id": "84b10aef-640b-481a-9d9c-f86d11198846",
   "metadata": {
    "collapsed": true,
    "jupyter": {
     "outputs_hidden": true
    },
    "tags": []
   },
   "outputs": [
    {
     "name": "stdout",
     "output_type": "stream",
     "text": [
      "DataFrame with winsorized column:\n",
      "           Date        Time State     Group  Unit  Sales  Normalized_Sales  \\\n",
      "0    2020-10-01     Morning    WA      Kids     8  20000          0.095238   \n",
      "1    2020-10-01     Morning    WA       Men     8  20000          0.095238   \n",
      "2    2020-10-01     Morning    WA     Women     4  10000          0.031746   \n",
      "3    2020-10-01     Morning    WA   Seniors    15  37500          0.206349   \n",
      "4    2020-10-01   Afternoon    WA      Kids     3   7500          0.015873   \n",
      "...         ...         ...   ...       ...   ...    ...               ...   \n",
      "7555 2020-12-30   Afternoon   TAS   Seniors    14  35000          0.190476   \n",
      "7556 2020-12-30     Evening   TAS      Kids    15  37500          0.206349   \n",
      "7557 2020-12-30     Evening   TAS       Men    15  37500          0.206349   \n",
      "7558 2020-12-30     Evening   TAS     Women    11  27500          0.142857   \n",
      "7559 2020-12-30     Evening   TAS   Seniors    13  32500          0.174603   \n",
      "\n",
      "     Sales_Category  Winsorized_Sales  \n",
      "0              501+             20000  \n",
      "1              501+             20000  \n",
      "2              501+             10000  \n",
      "3              501+             37500  \n",
      "4              501+             10000  \n",
      "...             ...               ...  \n",
      "7555           501+             35000  \n",
      "7556           501+             37500  \n",
      "7557           501+             37500  \n",
      "7558           501+             27500  \n",
      "7559           501+             32500  \n",
      "\n",
      "[7560 rows x 9 columns]\n"
     ]
    }
   ],
   "source": [
    "# Handling outliers by winsorizing\n",
    "from scipy.stats.mstats import winsorize\n",
    "\n",
    "# Check if 'Sale' column exists in the DataFrame\n",
    "if 'Sales' in df.columns:\n",
    "    # Winsorizing the 'Sales' column with limits [0.05, 0.05]\n",
    "    df['Winsorized_Sales'] = winsorize(df['Sales'], limits=[0.05, 0.05])\n",
    "\n",
    "    # Displaying the DataFrame with the winsorized column\n",
    "    print(\"DataFrame with winsorized column:\")\n",
    "    print(df)\n",
    "else:\n",
    "    print(\"The 'Sales' column does not exist in the DataFrame.\")"
   ]
  },
  {
   "cell_type": "code",
   "execution_count": 32,
   "id": "8da5ba38-efbd-44ef-b334-0e02a8496352",
   "metadata": {
    "collapsed": true,
    "jupyter": {
     "outputs_hidden": true
    },
    "tags": []
   },
   "outputs": [
    {
     "data": {
      "image/png": "[encoded data removed]",
      "text/plain": [
       "<Figure size 432x288 with 1 Axes>"
      ]
     },
     "metadata": {
      "needs_background": "light"
     },
     "output_type": "display_data"
    }
   ],
   "source": [
    "sns.histplot(df['Winsorized_Sales'], bins=20, kde=True)\n",
    "plt.title('Histogram: Distribution of Sale')\n",
    "plt.show()"
   ]
  },
  {
   "cell_type": "code",
   "execution_count": 33,
   "id": "cd99c771-13f7-4f08-9164-e3c4dffc782b",
   "metadata": {
    "tags": []
   },
   "outputs": [
    {
     "data": {
      "image/png": "[encoded data removed]",
      "text/plain": [
       "<Figure size 432x288 with 1 Axes>"
      ]
     },
     "metadata": {
      "needs_background": "light"
     },
     "output_type": "display_data"
    }
   ],
   "source": [
    "sns.barplot(x='Time', y='Normalized_Sales', data=df, hue='Group')\n",
    "plt.title('Bar plot: Average Sale by Time (Differentiated by Group)')\n",
    "plt.show()"
   ]
  },
  {
   "cell_type": "code",
   "execution_count": 50,
   "id": "56bea23f-23de-4e30-9f20-c788c8835db0",
   "metadata": {},
   "outputs": [],
   "source": [
    "#1.Morning time - all section sale is almost same, women section is having lowest sale as compared to others.\n",
    "#2.Afternoon time - senior section sale is lowest\n",
    "#3.Evening time - Senior section sale is lowest"
   ]
  },
  {
   "cell_type": "code",
   "execution_count": 34,
   "id": "ff3c29b6-7559-4f82-a9b4-ba10172ecec8",
   "metadata": {
    "collapsed": true,
    "jupyter": {
     "outputs_hidden": true
    },
    "tags": []
   },
   "outputs": [
    {
     "data": {
      "text/plain": [
       "0         WA\n",
       "1         WA\n",
       "2         WA\n",
       "3         WA\n",
       "4         WA\n",
       "        ... \n",
       "7555     TAS\n",
       "7556     TAS\n",
       "7557     TAS\n",
       "7558     TAS\n",
       "7559     TAS\n",
       "Name: State, Length: 7560, dtype: object"
      ]
     },
     "execution_count": 34,
     "metadata": {},
     "output_type": "execute_result"
    }
   ],
   "source": [
    "df.State"
   ]
  },
  {
   "cell_type": "code",
   "execution_count": 35,
   "id": "c064e9b1-fb30-4062-bec2-b80c166e42d4",
   "metadata": {},
   "outputs": [
    {
     "data": {
      "text/plain": [
       "7"
      ]
     },
     "execution_count": 35,
     "metadata": {},
     "output_type": "execute_result"
    }
   ],
   "source": [
    "State=df.State.unique()\n",
    "len(State)"
   ]
  },
  {
   "cell_type": "code",
   "execution_count": 36,
   "id": "65d93212-ad9f-43d7-9868-78c9b87e876d",
   "metadata": {
    "collapsed": true,
    "jupyter": {
     "outputs_hidden": true
    },
    "tags": []
   },
   "outputs": [
    {
     "data": {
      "text/plain": [
       " WA     1080\n",
       " NT     1080\n",
       " SA     1080\n",
       " VIC    1080\n",
       " QLD    1080\n",
       " NSW    1080\n",
       " TAS    1080\n",
       "Name: State, dtype: int64"
      ]
     },
     "execution_count": 36,
     "metadata": {},
     "output_type": "execute_result"
    }
   ],
   "source": [
    "State_by_sales=df.State.value_counts()\n",
    "State_by_sales"
   ]
  },
  {
   "cell_type": "code",
   "execution_count": 37,
   "id": "f8b32cd6-853a-4e5c-9b71-a6206bcc5213",
   "metadata": {},
   "outputs": [],
   "source": [
    "# From above it is observed Statewise sale is equal for overall groups."
   ]
  },
  {
   "cell_type": "code",
   "execution_count": 38,
   "id": "4d568602-c109-4d9a-a7b7-1a3cbcd6043c",
   "metadata": {
    "collapsed": true,
    "jupyter": {
     "outputs_hidden": true
    },
    "tags": []
   },
   "outputs": [
    {
     "data": {
      "text/plain": [
       " Kids       1890\n",
       " Men        1890\n",
       " Women      1890\n",
       " Seniors    1890\n",
       "Name: Group, dtype: int64"
      ]
     },
     "execution_count": 38,
     "metadata": {},
     "output_type": "execute_result"
    }
   ],
   "source": [
    "state_wise_Group_sales=df.Group.value_counts()\n",
    "state_wise_Group_sales"
   ]
  },
  {
   "cell_type": "code",
   "execution_count": 39,
   "id": "08db3fc7-8109-497f-8d48-6112cfe05def",
   "metadata": {
    "tags": []
   },
   "outputs": [
    {
     "name": "stderr",
     "output_type": "stream",
     "text": [
      "/tmp/ipykernel_145/2493984019.py:1: FutureWarning: Indexing with multiple keys (implicitly converted to a tuple of keys) will be deprecated, use a list instead.\n",
      "  statewise_sales=df.groupby(['State','Group'])['Sales','Unit'].max()\n"
     ]
    },
    {
     "data": {
      "text/html": [
       "<div>\n",
       "<style scoped>\n",
       "    .dataframe tbody tr th:only-of-type {\n",
       "        vertical-align: middle;\n",
       "    }\n",
       "\n",
       "    .dataframe tbody tr th {\n",
       "        vertical-align: top;\n",
       "    }\n",
       "\n",
       "    .dataframe thead th {\n",
       "        text-align: right;\n",
       "    }\n",
       "</style>\n",
       "<table border=\"1\" class=\"dataframe\">\n",
       "  <thead>\n",
       "    <tr style=\"text-align: right;\">\n",
       "      <th></th>\n",
       "      <th></th>\n",
       "      <th>Sales</th>\n",
       "      <th>Unit</th>\n",
       "    </tr>\n",
       "    <tr>\n",
       "      <th>State</th>\n",
       "      <th>Group</th>\n",
       "      <th></th>\n",
       "      <th></th>\n",
       "    </tr>\n",
       "  </thead>\n",
       "  <tbody>\n",
       "    <tr>\n",
       "      <th rowspan=\"4\" valign=\"top\">NSW</th>\n",
       "      <th>Kids</th>\n",
       "      <td>112500</td>\n",
       "      <td>45</td>\n",
       "    </tr>\n",
       "    <tr>\n",
       "      <th>Men</th>\n",
       "      <td>112500</td>\n",
       "      <td>45</td>\n",
       "    </tr>\n",
       "    <tr>\n",
       "      <th>Seniors</th>\n",
       "      <td>112500</td>\n",
       "      <td>45</td>\n",
       "    </tr>\n",
       "    <tr>\n",
       "      <th>Women</th>\n",
       "      <td>112500</td>\n",
       "      <td>45</td>\n",
       "    </tr>\n",
       "    <tr>\n",
       "      <th rowspan=\"4\" valign=\"top\">NT</th>\n",
       "      <th>Kids</th>\n",
       "      <td>37500</td>\n",
       "      <td>15</td>\n",
       "    </tr>\n",
       "    <tr>\n",
       "      <th>Men</th>\n",
       "      <td>37500</td>\n",
       "      <td>15</td>\n",
       "    </tr>\n",
       "    <tr>\n",
       "      <th>Seniors</th>\n",
       "      <td>37500</td>\n",
       "      <td>15</td>\n",
       "    </tr>\n",
       "    <tr>\n",
       "      <th>Women</th>\n",
       "      <td>37500</td>\n",
       "      <td>15</td>\n",
       "    </tr>\n",
       "    <tr>\n",
       "      <th rowspan=\"4\" valign=\"top\">QLD</th>\n",
       "      <th>Kids</th>\n",
       "      <td>62500</td>\n",
       "      <td>25</td>\n",
       "    </tr>\n",
       "    <tr>\n",
       "      <th>Men</th>\n",
       "      <td>62500</td>\n",
       "      <td>25</td>\n",
       "    </tr>\n",
       "    <tr>\n",
       "      <th>Seniors</th>\n",
       "      <td>62500</td>\n",
       "      <td>25</td>\n",
       "    </tr>\n",
       "    <tr>\n",
       "      <th>Women</th>\n",
       "      <td>62500</td>\n",
       "      <td>25</td>\n",
       "    </tr>\n",
       "    <tr>\n",
       "      <th rowspan=\"4\" valign=\"top\">SA</th>\n",
       "      <th>Kids</th>\n",
       "      <td>87500</td>\n",
       "      <td>35</td>\n",
       "    </tr>\n",
       "    <tr>\n",
       "      <th>Men</th>\n",
       "      <td>87500</td>\n",
       "      <td>35</td>\n",
       "    </tr>\n",
       "    <tr>\n",
       "      <th>Seniors</th>\n",
       "      <td>87500</td>\n",
       "      <td>35</td>\n",
       "    </tr>\n",
       "    <tr>\n",
       "      <th>Women</th>\n",
       "      <td>87500</td>\n",
       "      <td>35</td>\n",
       "    </tr>\n",
       "    <tr>\n",
       "      <th rowspan=\"4\" valign=\"top\">TAS</th>\n",
       "      <th>Kids</th>\n",
       "      <td>37500</td>\n",
       "      <td>15</td>\n",
       "    </tr>\n",
       "    <tr>\n",
       "      <th>Men</th>\n",
       "      <td>37500</td>\n",
       "      <td>15</td>\n",
       "    </tr>\n",
       "    <tr>\n",
       "      <th>Seniors</th>\n",
       "      <td>37500</td>\n",
       "      <td>15</td>\n",
       "    </tr>\n",
       "    <tr>\n",
       "      <th>Women</th>\n",
       "      <td>37500</td>\n",
       "      <td>15</td>\n",
       "    </tr>\n",
       "    <tr>\n",
       "      <th rowspan=\"4\" valign=\"top\">VIC</th>\n",
       "      <th>Kids</th>\n",
       "      <td>162500</td>\n",
       "      <td>65</td>\n",
       "    </tr>\n",
       "    <tr>\n",
       "      <th>Men</th>\n",
       "      <td>160000</td>\n",
       "      <td>64</td>\n",
       "    </tr>\n",
       "    <tr>\n",
       "      <th>Seniors</th>\n",
       "      <td>162500</td>\n",
       "      <td>65</td>\n",
       "    </tr>\n",
       "    <tr>\n",
       "      <th>Women</th>\n",
       "      <td>162500</td>\n",
       "      <td>65</td>\n",
       "    </tr>\n",
       "    <tr>\n",
       "      <th rowspan=\"4\" valign=\"top\">WA</th>\n",
       "      <th>Kids</th>\n",
       "      <td>37500</td>\n",
       "      <td>15</td>\n",
       "    </tr>\n",
       "    <tr>\n",
       "      <th>Men</th>\n",
       "      <td>37500</td>\n",
       "      <td>15</td>\n",
       "    </tr>\n",
       "    <tr>\n",
       "      <th>Seniors</th>\n",
       "      <td>37500</td>\n",
       "      <td>15</td>\n",
       "    </tr>\n",
       "    <tr>\n",
       "      <th>Women</th>\n",
       "      <td>37500</td>\n",
       "      <td>15</td>\n",
       "    </tr>\n",
       "  </tbody>\n",
       "</table>\n",
       "</div>"
      ],
      "text/plain": [
       "                 Sales  Unit\n",
       "State Group                 \n",
       " NSW   Kids     112500    45\n",
       "       Men      112500    45\n",
       "       Seniors  112500    45\n",
       "       Women    112500    45\n",
       " NT    Kids      37500    15\n",
       "       Men       37500    15\n",
       "       Seniors   37500    15\n",
       "       Women     37500    15\n",
       " QLD   Kids      62500    25\n",
       "       Men       62500    25\n",
       "       Seniors   62500    25\n",
       "       Women     62500    25\n",
       " SA    Kids      87500    35\n",
       "       Men       87500    35\n",
       "       Seniors   87500    35\n",
       "       Women     87500    35\n",
       " TAS   Kids      37500    15\n",
       "       Men       37500    15\n",
       "       Seniors   37500    15\n",
       "       Women     37500    15\n",
       " VIC   Kids     162500    65\n",
       "       Men      160000    64\n",
       "       Seniors  162500    65\n",
       "       Women    162500    65\n",
       " WA    Kids      37500    15\n",
       "       Men       37500    15\n",
       "       Seniors   37500    15\n",
       "       Women     37500    15"
      ]
     },
     "execution_count": 39,
     "metadata": {},
     "output_type": "execute_result"
    }
   ],
   "source": [
    "statewise_sales=df.groupby(['State','Group'])['Sales','Unit'].max()\n",
    "statewise_sales"
   ]
  },
  {
   "cell_type": "code",
   "execution_count": 51,
   "id": "d6461785-1d2d-47c6-ac1c-4730c1524608",
   "metadata": {},
   "outputs": [],
   "source": [
    "#largest selling unit is of Kids section and it is from NSW state\n",
    "# Almost Every type of unit is same from each type except VIC state.\n",
    "#Every state has largest selling unit is of Kids and smallest selling unit is of women section\n",
    "# overall smallest sale is of WA state"
   ]
  },
  {
   "cell_type": "code",
   "execution_count": 40,
   "id": "f666c441-95da-42d4-9c5c-7bc717341147",
   "metadata": {},
   "outputs": [
    {
     "data": {
      "text/plain": [
       "<AxesSubplot: ylabel='Count'>"
      ]
     },
     "execution_count": 40,
     "metadata": {},
     "output_type": "execute_result"
    },
    {
     "data": {
      "image/png": "[encoded data removed]",
      "text/plain": [
       "<Figure size 432x288 with 1 Axes>"
      ]
     },
     "metadata": {
      "needs_background": "light"
     },
     "output_type": "display_data"
    }
   ],
   "source": [
    "sns.histplot(statewise_sales, log_scale=True)"
   ]
  },
  {
   "cell_type": "code",
   "execution_count": 52,
   "id": "ae63038c-f4d8-47e0-8e8c-99f96a2123c3",
   "metadata": {},
   "outputs": [
    {
     "name": "stderr",
     "output_type": "stream",
     "text": [
      "/tmp/ipykernel_145/1761288186.py:1: FutureWarning: Indexing with multiple keys (implicitly converted to a tuple of keys) will be deprecated, use a list instead.\n",
      "  groupwise_sales=df.groupby(['Group','State'])['Sales','Unit'].max()\n"
     ]
    },
    {
     "data": {
      "text/html": [
       "<div>\n",
       "<style scoped>\n",
       "    .dataframe tbody tr th:only-of-type {\n",
       "        vertical-align: middle;\n",
       "    }\n",
       "\n",
       "    .dataframe tbody tr th {\n",
       "        vertical-align: top;\n",
       "    }\n",
       "\n",
       "    .dataframe thead th {\n",
       "        text-align: right;\n",
       "    }\n",
       "</style>\n",
       "<table border=\"1\" class=\"dataframe\">\n",
       "  <thead>\n",
       "    <tr style=\"text-align: right;\">\n",
       "      <th></th>\n",
       "      <th></th>\n",
       "      <th>Sales</th>\n",
       "      <th>Unit</th>\n",
       "    </tr>\n",
       "    <tr>\n",
       "      <th>Group</th>\n",
       "      <th>State</th>\n",
       "      <th></th>\n",
       "      <th></th>\n",
       "    </tr>\n",
       "  </thead>\n",
       "  <tbody>\n",
       "    <tr>\n",
       "      <th rowspan=\"7\" valign=\"top\">Kids</th>\n",
       "      <th>NSW</th>\n",
       "      <td>112500</td>\n",
       "      <td>45</td>\n",
       "    </tr>\n",
       "    <tr>\n",
       "      <th>NT</th>\n",
       "      <td>37500</td>\n",
       "      <td>15</td>\n",
       "    </tr>\n",
       "    <tr>\n",
       "      <th>QLD</th>\n",
       "      <td>62500</td>\n",
       "      <td>25</td>\n",
       "    </tr>\n",
       "    <tr>\n",
       "      <th>SA</th>\n",
       "      <td>87500</td>\n",
       "      <td>35</td>\n",
       "    </tr>\n",
       "    <tr>\n",
       "      <th>TAS</th>\n",
       "      <td>37500</td>\n",
       "      <td>15</td>\n",
       "    </tr>\n",
       "    <tr>\n",
       "      <th>VIC</th>\n",
       "      <td>162500</td>\n",
       "      <td>65</td>\n",
       "    </tr>\n",
       "    <tr>\n",
       "      <th>WA</th>\n",
       "      <td>37500</td>\n",
       "      <td>15</td>\n",
       "    </tr>\n",
       "    <tr>\n",
       "      <th rowspan=\"7\" valign=\"top\">Men</th>\n",
       "      <th>NSW</th>\n",
       "      <td>112500</td>\n",
       "      <td>45</td>\n",
       "    </tr>\n",
       "    <tr>\n",
       "      <th>NT</th>\n",
       "      <td>37500</td>\n",
       "      <td>15</td>\n",
       "    </tr>\n",
       "    <tr>\n",
       "      <th>QLD</th>\n",
       "      <td>62500</td>\n",
       "      <td>25</td>\n",
       "    </tr>\n",
       "    <tr>\n",
       "      <th>SA</th>\n",
       "      <td>87500</td>\n",
       "      <td>35</td>\n",
       "    </tr>\n",
       "    <tr>\n",
       "      <th>TAS</th>\n",
       "      <td>37500</td>\n",
       "      <td>15</td>\n",
       "    </tr>\n",
       "    <tr>\n",
       "      <th>VIC</th>\n",
       "      <td>160000</td>\n",
       "      <td>64</td>\n",
       "    </tr>\n",
       "    <tr>\n",
       "      <th>WA</th>\n",
       "      <td>37500</td>\n",
       "      <td>15</td>\n",
       "    </tr>\n",
       "    <tr>\n",
       "      <th rowspan=\"7\" valign=\"top\">Seniors</th>\n",
       "      <th>NSW</th>\n",
       "      <td>112500</td>\n",
       "      <td>45</td>\n",
       "    </tr>\n",
       "    <tr>\n",
       "      <th>NT</th>\n",
       "      <td>37500</td>\n",
       "      <td>15</td>\n",
       "    </tr>\n",
       "    <tr>\n",
       "      <th>QLD</th>\n",
       "      <td>62500</td>\n",
       "      <td>25</td>\n",
       "    </tr>\n",
       "    <tr>\n",
       "      <th>SA</th>\n",
       "      <td>87500</td>\n",
       "      <td>35</td>\n",
       "    </tr>\n",
       "    <tr>\n",
       "      <th>TAS</th>\n",
       "      <td>37500</td>\n",
       "      <td>15</td>\n",
       "    </tr>\n",
       "    <tr>\n",
       "      <th>VIC</th>\n",
       "      <td>162500</td>\n",
       "      <td>65</td>\n",
       "    </tr>\n",
       "    <tr>\n",
       "      <th>WA</th>\n",
       "      <td>37500</td>\n",
       "      <td>15</td>\n",
       "    </tr>\n",
       "    <tr>\n",
       "      <th rowspan=\"7\" valign=\"top\">Women</th>\n",
       "      <th>NSW</th>\n",
       "      <td>112500</td>\n",
       "      <td>45</td>\n",
       "    </tr>\n",
       "    <tr>\n",
       "      <th>NT</th>\n",
       "      <td>37500</td>\n",
       "      <td>15</td>\n",
       "    </tr>\n",
       "    <tr>\n",
       "      <th>QLD</th>\n",
       "      <td>62500</td>\n",
       "      <td>25</td>\n",
       "    </tr>\n",
       "    <tr>\n",
       "      <th>SA</th>\n",
       "      <td>87500</td>\n",
       "      <td>35</td>\n",
       "    </tr>\n",
       "    <tr>\n",
       "      <th>TAS</th>\n",
       "      <td>37500</td>\n",
       "      <td>15</td>\n",
       "    </tr>\n",
       "    <tr>\n",
       "      <th>VIC</th>\n",
       "      <td>162500</td>\n",
       "      <td>65</td>\n",
       "    </tr>\n",
       "    <tr>\n",
       "      <th>WA</th>\n",
       "      <td>37500</td>\n",
       "      <td>15</td>\n",
       "    </tr>\n",
       "  </tbody>\n",
       "</table>\n",
       "</div>"
      ],
      "text/plain": [
       "                 Sales  Unit\n",
       "Group    State              \n",
       " Kids     NSW   112500    45\n",
       "          NT     37500    15\n",
       "          QLD    62500    25\n",
       "          SA     87500    35\n",
       "          TAS    37500    15\n",
       "          VIC   162500    65\n",
       "          WA     37500    15\n",
       " Men      NSW   112500    45\n",
       "          NT     37500    15\n",
       "          QLD    62500    25\n",
       "          SA     87500    35\n",
       "          TAS    37500    15\n",
       "          VIC   160000    64\n",
       "          WA     37500    15\n",
       " Seniors  NSW   112500    45\n",
       "          NT     37500    15\n",
       "          QLD    62500    25\n",
       "          SA     87500    35\n",
       "          TAS    37500    15\n",
       "          VIC   162500    65\n",
       "          WA     37500    15\n",
       " Women    NSW   112500    45\n",
       "          NT     37500    15\n",
       "          QLD    62500    25\n",
       "          SA     87500    35\n",
       "          TAS    37500    15\n",
       "          VIC   162500    65\n",
       "          WA     37500    15"
      ]
     },
     "execution_count": 52,
     "metadata": {},
     "output_type": "execute_result"
    }
   ],
   "source": [
    "groupwise_sales=df.groupby(['Group','State'])['Sales','Unit'].max()\n",
    "groupwise_sales"
   ]
  },
  {
   "cell_type": "code",
   "execution_count": 53,
   "id": "4275ca6d-9501-42e5-9cb6-43512aac39c3",
   "metadata": {
    "collapsed": true,
    "jupyter": {
     "outputs_hidden": true
    },
    "tags": []
   },
   "outputs": [
    {
     "data": {
      "text/plain": [
       "<AxesSubplot: ylabel='Count'>"
      ]
     },
     "execution_count": 53,
     "metadata": {},
     "output_type": "execute_result"
    },
    {
     "data": {
      "image/png": "[encoded data removed]",
      "text/plain": [
       "<Figure size 432x288 with 1 Axes>"
      ]
     },
     "metadata": {
      "needs_background": "light"
     },
     "output_type": "display_data"
    }
   ],
   "source": [
    "sns.histplot(groupwise_sales, log_scale=True)"
   ]
  },
  {
   "cell_type": "code",
   "execution_count": 54,
   "id": "ac5dd197-32a1-4bb4-b9c4-c8de5d95fa05",
   "metadata": {},
   "outputs": [
    {
     "data": {
      "text/plain": [
       "Index(['Date', 'Time', 'State', 'Group', 'Unit', 'Sales', 'Normalized_Sales',\n",
       "       'Sales_Category', 'Winsorized_Sales'],\n",
       "      dtype='object')"
      ]
     },
     "execution_count": 54,
     "metadata": {},
     "output_type": "execute_result"
    }
   ],
   "source": [
    "df.columns"
   ]
  },
  {
   "cell_type": "code",
   "execution_count": 55,
   "id": "8436f8c1-fae7-4a1b-a14b-94124806d75a",
   "metadata": {
    "tags": []
   },
   "outputs": [
    {
     "data": {
      "text/plain": [
       "0      2020-10-01\n",
       "1      2020-10-01\n",
       "2      2020-10-01\n",
       "3      2020-10-01\n",
       "4      2020-10-01\n",
       "          ...    \n",
       "7555   2020-12-30\n",
       "7556   2020-12-30\n",
       "7557   2020-12-30\n",
       "7558   2020-12-30\n",
       "7559   2020-12-30\n",
       "Name: Date, Length: 7560, dtype: datetime64[ns]"
      ]
     },
     "execution_count": 55,
     "metadata": {},
     "output_type": "execute_result"
    }
   ],
   "source": [
    "df.Date"
   ]
  },
  {
   "cell_type": "code",
   "execution_count": 46,
   "id": "d8298ea9-d21e-4547-9e9d-96fad68811bc",
   "metadata": {
    "collapsed": true,
    "jupyter": {
     "outputs_hidden": true
    },
    "tags": []
   },
   "outputs": [
    {
     "data": {
      "text/plain": [
       "Date\n",
       "2020-10-01    0.761905\n",
       "2020-10-02    0.730159\n",
       "2020-10-03    0.761905\n",
       "2020-10-04    0.698413\n",
       "2020-10-05    0.666667\n",
       "                ...   \n",
       "2020-12-26    0.984127\n",
       "2020-12-27    0.952381\n",
       "2020-12-28    1.000000\n",
       "2020-12-29    1.000000\n",
       "2020-12-30    1.000000\n",
       "Name: Normalized_Sales, Length: 90, dtype: float64"
      ]
     },
     "execution_count": 46,
     "metadata": {},
     "output_type": "execute_result"
    }
   ],
   "source": [
    "datewise_sales=df.groupby(['Date'])['Normalized_Sales'].max()\n",
    "datewise_sales"
   ]
  },
  {
   "cell_type": "code",
   "execution_count": 47,
   "id": "a505343e-6f56-48e5-8d65-1f86e8f16e00",
   "metadata": {
    "collapsed": true,
    "jupyter": {
     "outputs_hidden": true
    },
    "tags": []
   },
   "outputs": [
    {
     "data": {
      "text/plain": [
       "<AxesSubplot: xlabel='Normalized_Sales', ylabel='Count'>"
      ]
     },
     "execution_count": 47,
     "metadata": {},
     "output_type": "execute_result"
    },
    {
     "data": {
      "image/png": "[encoded data removed]",
      "text/plain": [
       "<Figure size 432x288 with 1 Axes>"
      ]
     },
     "metadata": {
      "needs_background": "light"
     },
     "output_type": "display_data"
    }
   ],
   "source": [
    "sns.histplot(datewise_sales, log_scale=True)"
   ]
  },
  {
   "cell_type": "code",
   "execution_count": 48,
   "id": "d0d9e68d-1e16-49fd-8109-57b7d34c3b65",
   "metadata": {
    "tags": []
   },
   "outputs": [
    {
     "name": "stderr",
     "output_type": "stream",
     "text": [
      "/tmp/ipykernel_145/4160792428.py:1: UserWarning: \n",
      "\n",
      "`distplot` is a deprecated function and will be removed in seaborn v0.14.0.\n",
      "\n",
      "Please adapt your code to use either `displot` (a figure-level function with\n",
      "similar flexibility) or `histplot` (an axes-level function for histograms).\n",
      "\n",
      "For a guide to updating your code to use the new functions, please see\n",
      "https://gist.github.com/mwaskom/de44147ed2974457ad6372750bbe5751\n",
      "\n",
      "  sns.distplot(df.Date.dt.dayofweek, bins=7, kde=False, norm_hist=True )\n"
     ]
    },
    {
     "data": {
      "text/plain": [
       "<AxesSubplot: xlabel='Date'>"
      ]
     },
     "execution_count": 48,
     "metadata": {},
     "output_type": "execute_result"
    },
    {
     "data": {
      "image/png": "[encoded data removed]",
      "text/plain": [
       "<Figure size 432x288 with 1 Axes>"
      ]
     },
     "metadata": {
      "needs_background": "light"
     },
     "output_type": "display_data"
    }
   ],
   "source": [
    "sns.distplot(df.Date.dt.dayofweek, bins=7, kde=False, norm_hist=True )"
   ]
  },
  {
   "cell_type": "code",
   "execution_count": 57,
   "id": "aac14c24-3028-4cc6-9f8d-5edd6e8c9334",
   "metadata": {},
   "outputs": [],
   "source": [
    "#All of days in week sale is equal except 5th day in week."
   ]
  },
  {
   "cell_type": "code",
   "execution_count": null,
   "id": "dd0b03d3-1d28-46d6-89dd-49c8d5f45bbb",
   "metadata": {},
   "outputs": [],
   "source": []
  }
 ],
 "metadata": {
  "kernelspec": {
   "display_name": "Python 3 [3.10]",
   "language": "python",
   "name": "python3"
  },
  "language_info": {
   "codemirror_mode": {
    "name": "ipython",
    "version": 3
   },
   "file_extension": ".py",
   "mimetype": "text/x-python",
   "name": "python",
   "nbconvert_exporter": "python",
   "pygments_lexer": "ipython3",
   "version": "3.10.2"
  }
 },
 "nbformat": 4,
 "nbformat_minor": 5
}
